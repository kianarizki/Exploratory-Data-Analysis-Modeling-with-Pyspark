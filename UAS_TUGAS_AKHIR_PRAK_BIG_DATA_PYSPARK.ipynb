{
  "nbformat": 4,
  "nbformat_minor": 0,
  "metadata": {
    "colab": {
      "name": "UAS_TUGAS_AKHIR_PRAK_BIG_DATA_PYSPARK.ipynb",
      "provenance": [],
      "collapsed_sections": []
    },
    "kernelspec": {
      "name": "python3",
      "display_name": "Python 3"
    },
    "language_info": {
      "name": "python"
    }
  },
  "cells": [
    {
      "cell_type": "code",
      "execution_count": 92,
      "metadata": {
        "id": "daimQ8Yk1p0S",
        "colab": {
          "base_uri": "https://localhost:8080/"
        },
        "outputId": "4cc4ca62-d56c-48a9-f7ea-d94c2ba7e875"
      },
      "outputs": [
        {
          "output_type": "stream",
          "name": "stdout",
          "text": [
            "Looking in indexes: https://pypi.org/simple, https://us-python.pkg.dev/colab-wheels/public/simple/\n",
            "Requirement already satisfied: pyspark in /usr/local/lib/python3.7/dist-packages (3.3.0)\n",
            "Requirement already satisfied: py4j in /usr/local/lib/python3.7/dist-packages (0.10.9.5)\n"
          ]
        }
      ],
      "source": [
        "!pip install pyspark py4j"
      ]
    },
    {
      "cell_type": "code",
      "source": [
        "from pyspark.sql import SparkSession\n",
        "spark = SparkSession.builder.appName(\"dataTitanic\").getOrCreate()\n",
        "spark"
      ],
      "metadata": {
        "colab": {
          "base_uri": "https://localhost:8080/",
          "height": 222
        },
        "id": "ljrpm0Ht1ud3",
        "outputId": "1901f429-d0fe-4be2-8a5a-66f0c5e35dd4"
      },
      "execution_count": 116,
      "outputs": [
        {
          "output_type": "execute_result",
          "data": {
            "text/plain": [
              "<pyspark.sql.session.SparkSession at 0x7f6e74caa050>"
            ],
            "text/html": [
              "\n",
              "            <div>\n",
              "                <p><b>SparkSession - in-memory</b></p>\n",
              "                \n",
              "        <div>\n",
              "            <p><b>SparkContext</b></p>\n",
              "\n",
              "            <p><a href=\"http://512bc1233d50:4040\">Spark UI</a></p>\n",
              "\n",
              "            <dl>\n",
              "              <dt>Version</dt>\n",
              "                <dd><code>v3.3.0</code></dd>\n",
              "              <dt>Master</dt>\n",
              "                <dd><code>local[*]</code></dd>\n",
              "              <dt>AppName</dt>\n",
              "                <dd><code>dataTitanic</code></dd>\n",
              "            </dl>\n",
              "        </div>\n",
              "        \n",
              "            </div>\n",
              "        "
            ]
          },
          "metadata": {},
          "execution_count": 116
        }
      ]
    },
    {
      "cell_type": "code",
      "source": [
        "# Membaca Data\n",
        "df = spark.read.csv('titanic_train.csv', header=True, inferSchema=True)\n",
        "print('Ukuran Dataset: ')\n",
        "print('Jumlah Data  : ', df.count())\n",
        "print('Jumlah Kolom : ', len(df.columns))\n",
        "df.show()"
      ],
      "metadata": {
        "colab": {
          "base_uri": "https://localhost:8080/"
        },
        "id": "0IusHABb2_ho",
        "outputId": "62866901-0381-48d3-ea5f-0c6edff8e60b"
      },
      "execution_count": 135,
      "outputs": [
        {
          "output_type": "stream",
          "name": "stdout",
          "text": [
            "Ukuran Dataset: \n",
            "Jumlah Data  :  891\n",
            "Jumlah Kolom :  12\n",
            "+-----------+--------+------+--------------------+------+----+-----+-----+----------------+-------+-----+--------+\n",
            "|PassengerId|Survived|Pclass|                Name|   Sex| Age|SibSp|Parch|          Ticket|   Fare|Cabin|Embarked|\n",
            "+-----------+--------+------+--------------------+------+----+-----+-----+----------------+-------+-----+--------+\n",
            "|          1|       0|     3|Braund, Mr. Owen ...|  male|22.0|    1|    0|       A/5 21171|   7.25| null|       S|\n",
            "|          2|       1|     1|Cumings, Mrs. Joh...|female|38.0|    1|    0|        PC 17599|71.2833|  C85|       C|\n",
            "|          3|       1|     3|Heikkinen, Miss. ...|female|26.0|    0|    0|STON/O2. 3101282|  7.925| null|       S|\n",
            "|          4|       1|     1|Futrelle, Mrs. Ja...|female|35.0|    1|    0|          113803|   53.1| C123|       S|\n",
            "|          5|       0|     3|Allen, Mr. Willia...|  male|35.0|    0|    0|          373450|   8.05| null|       S|\n",
            "|          6|       0|     3|    Moran, Mr. James|  male|null|    0|    0|          330877| 8.4583| null|       Q|\n",
            "|          7|       0|     1|McCarthy, Mr. Tim...|  male|54.0|    0|    0|           17463|51.8625|  E46|       S|\n",
            "|          8|       0|     3|Palsson, Master. ...|  male| 2.0|    3|    1|          349909| 21.075| null|       S|\n",
            "|          9|       1|     3|Johnson, Mrs. Osc...|female|27.0|    0|    2|          347742|11.1333| null|       S|\n",
            "|         10|       1|     2|Nasser, Mrs. Nich...|female|14.0|    1|    0|          237736|30.0708| null|       C|\n",
            "|         11|       1|     3|Sandstrom, Miss. ...|female| 4.0|    1|    1|         PP 9549|   16.7|   G6|       S|\n",
            "|         12|       1|     1|Bonnell, Miss. El...|female|58.0|    0|    0|          113783|  26.55| C103|       S|\n",
            "|         13|       0|     3|Saundercock, Mr. ...|  male|20.0|    0|    0|       A/5. 2151|   8.05| null|       S|\n",
            "|         14|       0|     3|Andersson, Mr. An...|  male|39.0|    1|    5|          347082| 31.275| null|       S|\n",
            "|         15|       0|     3|Vestrom, Miss. Hu...|female|14.0|    0|    0|          350406| 7.8542| null|       S|\n",
            "|         16|       1|     2|Hewlett, Mrs. (Ma...|female|55.0|    0|    0|          248706|   16.0| null|       S|\n",
            "|         17|       0|     3|Rice, Master. Eugene|  male| 2.0|    4|    1|          382652| 29.125| null|       Q|\n",
            "|         18|       1|     2|Williams, Mr. Cha...|  male|null|    0|    0|          244373|   13.0| null|       S|\n",
            "|         19|       0|     3|Vander Planke, Mr...|female|31.0|    1|    0|          345763|   18.0| null|       S|\n",
            "|         20|       1|     3|Masselmani, Mrs. ...|female|null|    0|    0|            2649|  7.225| null|       C|\n",
            "+-----------+--------+------+--------------------+------+----+-----+-----+----------------+-------+-----+--------+\n",
            "only showing top 20 rows\n",
            "\n"
          ]
        }
      ]
    },
    {
      "cell_type": "code",
      "source": [
        "df.printSchema()   "
      ],
      "metadata": {
        "colab": {
          "base_uri": "https://localhost:8080/"
        },
        "id": "S0n5e81e4ccK",
        "outputId": "ebae0f39-4557-4f4e-b122-ba4bbe4b0dc2"
      },
      "execution_count": 136,
      "outputs": [
        {
          "output_type": "stream",
          "name": "stdout",
          "text": [
            "root\n",
            " |-- PassengerId: integer (nullable = true)\n",
            " |-- Survived: integer (nullable = true)\n",
            " |-- Pclass: integer (nullable = true)\n",
            " |-- Name: string (nullable = true)\n",
            " |-- Sex: string (nullable = true)\n",
            " |-- Age: double (nullable = true)\n",
            " |-- SibSp: integer (nullable = true)\n",
            " |-- Parch: integer (nullable = true)\n",
            " |-- Ticket: string (nullable = true)\n",
            " |-- Fare: double (nullable = true)\n",
            " |-- Cabin: string (nullable = true)\n",
            " |-- Embarked: string (nullable = true)\n",
            "\n"
          ]
        }
      ]
    },
    {
      "cell_type": "code",
      "source": [
        "# Cek missing value\n",
        "from pyspark.sql.functions import col, isnan, when, count\n",
        "df.select([count(when(col(c).isNull(),c)).alias(c) for c in df.columns]).show()"
      ],
      "metadata": {
        "colab": {
          "base_uri": "https://localhost:8080/"
        },
        "id": "bl9XmEgQKKKj",
        "outputId": "6792b9f9-548a-4ba2-dfbf-77e780aaf8e1"
      },
      "execution_count": 137,
      "outputs": [
        {
          "output_type": "stream",
          "name": "stdout",
          "text": [
            "+-----------+--------+------+----+---+---+-----+-----+------+----+-----+--------+\n",
            "|PassengerId|Survived|Pclass|Name|Sex|Age|SibSp|Parch|Ticket|Fare|Cabin|Embarked|\n",
            "+-----------+--------+------+----+---+---+-----+-----+------+----+-----+--------+\n",
            "|          0|       0|     0|   0|  0|177|    0|    0|     0|   0|  687|       2|\n",
            "+-----------+--------+------+----+---+---+-----+-----+------+----+-----+--------+\n",
            "\n"
          ]
        }
      ]
    },
    {
      "cell_type": "code",
      "source": [
        "# menampilkan statistik data pada setiap kolom\n",
        "df.toPandas().describe()"
      ],
      "metadata": {
        "colab": {
          "base_uri": "https://localhost:8080/",
          "height": 300
        },
        "id": "Wdu2z2N2-pYv",
        "outputId": "94fd2e0a-9880-4120-e3a4-bdf96cbde043"
      },
      "execution_count": 138,
      "outputs": [
        {
          "output_type": "execute_result",
          "data": {
            "text/plain": [
              "       PassengerId    Survived      Pclass         Age       SibSp  \\\n",
              "count   891.000000  891.000000  891.000000  714.000000  891.000000   \n",
              "mean    446.000000    0.383838    2.308642   29.699118    0.523008   \n",
              "std     257.353842    0.486592    0.836071   14.526497    1.102743   \n",
              "min       1.000000    0.000000    1.000000    0.420000    0.000000   \n",
              "25%     223.500000    0.000000    2.000000   20.125000    0.000000   \n",
              "50%     446.000000    0.000000    3.000000   28.000000    0.000000   \n",
              "75%     668.500000    1.000000    3.000000   38.000000    1.000000   \n",
              "max     891.000000    1.000000    3.000000   80.000000    8.000000   \n",
              "\n",
              "            Parch        Fare  \n",
              "count  891.000000  891.000000  \n",
              "mean     0.381594   32.204208  \n",
              "std      0.806057   49.693429  \n",
              "min      0.000000    0.000000  \n",
              "25%      0.000000    7.910400  \n",
              "50%      0.000000   14.454200  \n",
              "75%      0.000000   31.000000  \n",
              "max      6.000000  512.329200  "
            ],
            "text/html": [
              "\n",
              "  <div id=\"df-6ec67620-67ae-4fc6-b1cd-e1ebc123833e\">\n",
              "    <div class=\"colab-df-container\">\n",
              "      <div>\n",
              "<style scoped>\n",
              "    .dataframe tbody tr th:only-of-type {\n",
              "        vertical-align: middle;\n",
              "    }\n",
              "\n",
              "    .dataframe tbody tr th {\n",
              "        vertical-align: top;\n",
              "    }\n",
              "\n",
              "    .dataframe thead th {\n",
              "        text-align: right;\n",
              "    }\n",
              "</style>\n",
              "<table border=\"1\" class=\"dataframe\">\n",
              "  <thead>\n",
              "    <tr style=\"text-align: right;\">\n",
              "      <th></th>\n",
              "      <th>PassengerId</th>\n",
              "      <th>Survived</th>\n",
              "      <th>Pclass</th>\n",
              "      <th>Age</th>\n",
              "      <th>SibSp</th>\n",
              "      <th>Parch</th>\n",
              "      <th>Fare</th>\n",
              "    </tr>\n",
              "  </thead>\n",
              "  <tbody>\n",
              "    <tr>\n",
              "      <th>count</th>\n",
              "      <td>891.000000</td>\n",
              "      <td>891.000000</td>\n",
              "      <td>891.000000</td>\n",
              "      <td>714.000000</td>\n",
              "      <td>891.000000</td>\n",
              "      <td>891.000000</td>\n",
              "      <td>891.000000</td>\n",
              "    </tr>\n",
              "    <tr>\n",
              "      <th>mean</th>\n",
              "      <td>446.000000</td>\n",
              "      <td>0.383838</td>\n",
              "      <td>2.308642</td>\n",
              "      <td>29.699118</td>\n",
              "      <td>0.523008</td>\n",
              "      <td>0.381594</td>\n",
              "      <td>32.204208</td>\n",
              "    </tr>\n",
              "    <tr>\n",
              "      <th>std</th>\n",
              "      <td>257.353842</td>\n",
              "      <td>0.486592</td>\n",
              "      <td>0.836071</td>\n",
              "      <td>14.526497</td>\n",
              "      <td>1.102743</td>\n",
              "      <td>0.806057</td>\n",
              "      <td>49.693429</td>\n",
              "    </tr>\n",
              "    <tr>\n",
              "      <th>min</th>\n",
              "      <td>1.000000</td>\n",
              "      <td>0.000000</td>\n",
              "      <td>1.000000</td>\n",
              "      <td>0.420000</td>\n",
              "      <td>0.000000</td>\n",
              "      <td>0.000000</td>\n",
              "      <td>0.000000</td>\n",
              "    </tr>\n",
              "    <tr>\n",
              "      <th>25%</th>\n",
              "      <td>223.500000</td>\n",
              "      <td>0.000000</td>\n",
              "      <td>2.000000</td>\n",
              "      <td>20.125000</td>\n",
              "      <td>0.000000</td>\n",
              "      <td>0.000000</td>\n",
              "      <td>7.910400</td>\n",
              "    </tr>\n",
              "    <tr>\n",
              "      <th>50%</th>\n",
              "      <td>446.000000</td>\n",
              "      <td>0.000000</td>\n",
              "      <td>3.000000</td>\n",
              "      <td>28.000000</td>\n",
              "      <td>0.000000</td>\n",
              "      <td>0.000000</td>\n",
              "      <td>14.454200</td>\n",
              "    </tr>\n",
              "    <tr>\n",
              "      <th>75%</th>\n",
              "      <td>668.500000</td>\n",
              "      <td>1.000000</td>\n",
              "      <td>3.000000</td>\n",
              "      <td>38.000000</td>\n",
              "      <td>1.000000</td>\n",
              "      <td>0.000000</td>\n",
              "      <td>31.000000</td>\n",
              "    </tr>\n",
              "    <tr>\n",
              "      <th>max</th>\n",
              "      <td>891.000000</td>\n",
              "      <td>1.000000</td>\n",
              "      <td>3.000000</td>\n",
              "      <td>80.000000</td>\n",
              "      <td>8.000000</td>\n",
              "      <td>6.000000</td>\n",
              "      <td>512.329200</td>\n",
              "    </tr>\n",
              "  </tbody>\n",
              "</table>\n",
              "</div>\n",
              "      <button class=\"colab-df-convert\" onclick=\"convertToInteractive('df-6ec67620-67ae-4fc6-b1cd-e1ebc123833e')\"\n",
              "              title=\"Convert this dataframe to an interactive table.\"\n",
              "              style=\"display:none;\">\n",
              "        \n",
              "  <svg xmlns=\"http://www.w3.org/2000/svg\" height=\"24px\"viewBox=\"0 0 24 24\"\n",
              "       width=\"24px\">\n",
              "    <path d=\"M0 0h24v24H0V0z\" fill=\"none\"/>\n",
              "    <path d=\"M18.56 5.44l.94 2.06.94-2.06 2.06-.94-2.06-.94-.94-2.06-.94 2.06-2.06.94zm-11 1L8.5 8.5l.94-2.06 2.06-.94-2.06-.94L8.5 2.5l-.94 2.06-2.06.94zm10 10l.94 2.06.94-2.06 2.06-.94-2.06-.94-.94-2.06-.94 2.06-2.06.94z\"/><path d=\"M17.41 7.96l-1.37-1.37c-.4-.4-.92-.59-1.43-.59-.52 0-1.04.2-1.43.59L10.3 9.45l-7.72 7.72c-.78.78-.78 2.05 0 2.83L4 21.41c.39.39.9.59 1.41.59.51 0 1.02-.2 1.41-.59l7.78-7.78 2.81-2.81c.8-.78.8-2.07 0-2.86zM5.41 20L4 18.59l7.72-7.72 1.47 1.35L5.41 20z\"/>\n",
              "  </svg>\n",
              "      </button>\n",
              "      \n",
              "  <style>\n",
              "    .colab-df-container {\n",
              "      display:flex;\n",
              "      flex-wrap:wrap;\n",
              "      gap: 12px;\n",
              "    }\n",
              "\n",
              "    .colab-df-convert {\n",
              "      background-color: #E8F0FE;\n",
              "      border: none;\n",
              "      border-radius: 50%;\n",
              "      cursor: pointer;\n",
              "      display: none;\n",
              "      fill: #1967D2;\n",
              "      height: 32px;\n",
              "      padding: 0 0 0 0;\n",
              "      width: 32px;\n",
              "    }\n",
              "\n",
              "    .colab-df-convert:hover {\n",
              "      background-color: #E2EBFA;\n",
              "      box-shadow: 0px 1px 2px rgba(60, 64, 67, 0.3), 0px 1px 3px 1px rgba(60, 64, 67, 0.15);\n",
              "      fill: #174EA6;\n",
              "    }\n",
              "\n",
              "    [theme=dark] .colab-df-convert {\n",
              "      background-color: #3B4455;\n",
              "      fill: #D2E3FC;\n",
              "    }\n",
              "\n",
              "    [theme=dark] .colab-df-convert:hover {\n",
              "      background-color: #434B5C;\n",
              "      box-shadow: 0px 1px 3px 1px rgba(0, 0, 0, 0.15);\n",
              "      filter: drop-shadow(0px 1px 2px rgba(0, 0, 0, 0.3));\n",
              "      fill: #FFFFFF;\n",
              "    }\n",
              "  </style>\n",
              "\n",
              "      <script>\n",
              "        const buttonEl =\n",
              "          document.querySelector('#df-6ec67620-67ae-4fc6-b1cd-e1ebc123833e button.colab-df-convert');\n",
              "        buttonEl.style.display =\n",
              "          google.colab.kernel.accessAllowed ? 'block' : 'none';\n",
              "\n",
              "        async function convertToInteractive(key) {\n",
              "          const element = document.querySelector('#df-6ec67620-67ae-4fc6-b1cd-e1ebc123833e');\n",
              "          const dataTable =\n",
              "            await google.colab.kernel.invokeFunction('convertToInteractive',\n",
              "                                                     [key], {});\n",
              "          if (!dataTable) return;\n",
              "\n",
              "          const docLinkHtml = 'Like what you see? Visit the ' +\n",
              "            '<a target=\"_blank\" href=https://colab.research.google.com/notebooks/data_table.ipynb>data table notebook</a>'\n",
              "            + ' to learn more about interactive tables.';\n",
              "          element.innerHTML = '';\n",
              "          dataTable['output_type'] = 'display_data';\n",
              "          await google.colab.output.renderOutput(dataTable, element);\n",
              "          const docLink = document.createElement('div');\n",
              "          docLink.innerHTML = docLinkHtml;\n",
              "          element.appendChild(docLink);\n",
              "        }\n",
              "      </script>\n",
              "    </div>\n",
              "  </div>\n",
              "  "
            ]
          },
          "metadata": {},
          "execution_count": 138
        }
      ]
    },
    {
      "cell_type": "markdown",
      "source": [
        "Berapa penumpang yang selamat?"
      ],
      "metadata": {
        "id": "Mr9DdG5TCR8W"
      }
    },
    {
      "cell_type": "code",
      "source": [
        "display(df.groupBy(\"Survived\").count().show())"
      ],
      "metadata": {
        "colab": {
          "base_uri": "https://localhost:8080/",
          "height": 163
        },
        "id": "b0RhWs8eCNEs",
        "outputId": "c9cd7568-810e-4bb3-f9aa-2c24119bb0bf"
      },
      "execution_count": 139,
      "outputs": [
        {
          "output_type": "stream",
          "name": "stdout",
          "text": [
            "+--------+-----+\n",
            "|Survived|count|\n",
            "+--------+-----+\n",
            "|       1|  342|\n",
            "|       0|  549|\n",
            "+--------+-----+\n",
            "\n"
          ]
        },
        {
          "output_type": "display_data",
          "data": {
            "text/plain": [
              "None"
            ]
          },
          "metadata": {}
        }
      ]
    },
    {
      "cell_type": "markdown",
      "source": [
        "lebih dari 60% (≈ 61,6%) penumpang tidak selamat.\n",
        "(statistik ini juga dapat disimpulkan dari statistik deskriptif yang ditampilkan di atas)."
      ],
      "metadata": {
        "id": "QP-V_x2-L3NV"
      }
    },
    {
      "cell_type": "markdown",
      "source": [
        "**Bagaimana tingkat kelangsungan hidup berkorelasi dengan beberapa variabel/fitur:**"
      ],
      "metadata": {
        "id": "Eflo0GuRMKGe"
      }
    },
    {
      "cell_type": "markdown",
      "source": [
        "**Sex :**"
      ],
      "metadata": {
        "id": "INJTSJ64M0nL"
      }
    },
    {
      "cell_type": "code",
      "source": [
        "df.groupBy(\"Sex\",\"Survived\").count().show()"
      ],
      "metadata": {
        "colab": {
          "base_uri": "https://localhost:8080/"
        },
        "id": "1gwFOtdwMFug",
        "outputId": "6d1443f7-8583-4a59-b084-19010b10eeb1"
      },
      "execution_count": 142,
      "outputs": [
        {
          "output_type": "stream",
          "name": "stdout",
          "text": [
            "+------+--------+-----+\n",
            "|   Sex|Survived|count|\n",
            "+------+--------+-----+\n",
            "|  male|       0|  468|\n",
            "|female|       1|  233|\n",
            "|female|       0|   81|\n",
            "|  male|       1|  109|\n",
            "+------+--------+-----+\n",
            "\n"
          ]
        }
      ]
    },
    {
      "cell_type": "markdown",
      "source": [
        "Hampir 65% wisatawan dari kumpulan data kami adalah laki-laki sedangkan 35% sisanya adalah perempuan.\n",
        "Yang paling menonjol adalah persentase perbandingan antara perempuan dan laki-laki yang selamat: hampir 75% perempuan selamat sementara bahkan tidak 20% (≈18,9%) penumpang laki-laki berhasil selamat!"
      ],
      "metadata": {
        "id": "kjU62M06MYDJ"
      }
    },
    {
      "cell_type": "markdown",
      "source": [
        "**Pclass:**"
      ],
      "metadata": {
        "id": "cERPrpu-M9Q_"
      }
    },
    {
      "cell_type": "code",
      "source": [
        "df.groupBy(\"Pclass\",\"Survived\").count().show()"
      ],
      "metadata": {
        "colab": {
          "base_uri": "https://localhost:8080/"
        },
        "id": "hY2-B9VCM5Qo",
        "outputId": "435e9dc6-a0af-4417-cc75-8353bfd1b125"
      },
      "execution_count": 143,
      "outputs": [
        {
          "output_type": "stream",
          "name": "stdout",
          "text": [
            "+------+--------+-----+\n",
            "|Pclass|Survived|count|\n",
            "+------+--------+-----+\n",
            "|     1|       0|   80|\n",
            "|     3|       1|  119|\n",
            "|     1|       1|  136|\n",
            "|     2|       1|   87|\n",
            "|     2|       0|   97|\n",
            "|     3|       0|  372|\n",
            "+------+--------+-----+\n",
            "\n"
          ]
        }
      ]
    },
    {
      "cell_type": "markdown",
      "source": [
        "- Kelas 3 memiliki jumlah pemudik terbanyak, diikuti oleh kelas 1 dan kelas dengan penumpang paling sedikit adalah kelas 2. Jumlah penumpang di kelas 3 (yang paling tidak beruntung...) lebih banyak dari jumlah penumpang di kelas 1 dan kelas 2 digabungkan!\n",
        "\n",
        "- Tingkat kelangsungan hidup sebenarnya dari seorang pelancong kelas1 adalah yang tertinggi (≈63%). Pelancong kelas 2 dan kelas 3 memiliki tingkat kelangsungan hidup aktual masing-masing 47,3% dan 24,2%."
      ],
      "metadata": {
        "id": "iGafQMerNE74"
      }
    },
    {
      "cell_type": "markdown",
      "source": [
        "**Age :**"
      ],
      "metadata": {
        "id": "u1SY2E6HMfjW"
      }
    },
    {
      "cell_type": "code",
      "source": [
        "import seaborn as sns\n",
        "import matplotlib as mpl\n",
        "from matplotlib import pyplot as plt\n",
        "df_pd = df.toPandas()\n",
        "plt.rcParams[\"figure.figsize\"] = (13,6)\n",
        "plt.rcParams[\"axes.labelsize\"] = 15\n",
        "plt.tick_params(labelsize=12.5)\n",
        "ax = sns.histplot(data=df_pd, x=\"Age\", hue=\"Survived\",  multiple=\"dodge\", bins=8)\n",
        "ax.set(xlabel='Age Groups',\n",
        "       ylabel='Number  of  Travelers')"
      ],
      "metadata": {
        "colab": {
          "base_uri": "https://localhost:8080/",
          "height": 414
        },
        "id": "OZ36vkBpMksU",
        "outputId": "54a1d33a-a7f9-4b15-be19-572789117c60"
      },
      "execution_count": 146,
      "outputs": [
        {
          "output_type": "execute_result",
          "data": {
            "text/plain": [
              "[Text(0, 0.5, 'Number  of  Travelers'), Text(0.5, 0, 'Age Groups')]"
            ]
          },
          "metadata": {},
          "execution_count": 146
        },
        {
          "output_type": "display_data",
          "data": {
            "text/plain": [
              "<Figure size 936x432 with 1 Axes>"
            ],
            "image/png": "[encoded data removed]"
          },
          "metadata": {
            "needs_background": "light"
          }
        }
      ]
    },
    {
      "cell_type": "markdown",
      "source": [
        "**Embarked:**"
      ],
      "metadata": {
        "id": "On0fkwPhNheu"
      }
    },
    {
      "cell_type": "code",
      "source": [
        "df.groupBy(\"Embarked\",\"Survived\").count().show()"
      ],
      "metadata": {
        "colab": {
          "base_uri": "https://localhost:8080/"
        },
        "id": "RJQaUouKNjId",
        "outputId": "6c6ab12a-9a11-4a95-f376-2d7d38ea735b"
      },
      "execution_count": 147,
      "outputs": [
        {
          "output_type": "stream",
          "name": "stdout",
          "text": [
            "+--------+--------+-----+\n",
            "|Embarked|Survived|count|\n",
            "+--------+--------+-----+\n",
            "|    null|       1|    2|\n",
            "|       Q|       1|   30|\n",
            "|       S|       0|  427|\n",
            "|       S|       1|  217|\n",
            "|       C|       1|   93|\n",
            "|       Q|       0|   47|\n",
            "|       C|       0|   75|\n",
            "+--------+--------+-----+\n",
            "\n"
          ]
        }
      ]
    },
    {
      "cell_type": "markdown",
      "source": [
        "- Memulai menyiratkan Pelabuhan Embarkasi: C = Cherbourg; Q = Kota Queen; S = Southampton.\n",
        "\n",
        "- Mayoritas pelancong, sekitar 72% naik dari Southampton. Sekitar 19% naik dari Cherbourg dan sisanya naik dari Queenstown (hampir 9%).\n",
        "\n",
        "- Hanya penumpang yang naik dari Cherbourg yang memiliki peluang nyata untuk bertahan hidup lebih dari 50%. Pelancong yang naik dari Southampton memiliki peluang bertahan hidup paling kecil (≈33%)."
      ],
      "metadata": {
        "id": "43IZG3VsNrFP"
      }
    },
    {
      "cell_type": "code",
      "source": [
        "df.groupBy('Embarked').count().show()\n",
        "\n",
        "#mengatasi kolomm yang memiliki missing value pada kolom Embarked dengan nilai terbanyak\n",
        "df= df.fillna({\"Embarked\" : 'S'})\n",
        "#menghapus fitur yang tidak perlu\n",
        "df= df.drop('PassengerID', 'Age', 'Cabin', 'Ticket')\n",
        "\n",
        "#cek kembali missing value\n",
        "df.select([count(when(col(c).isNull(),c)).alias(c) for c in df.columns]).show()\n",
        "\n",
        "#menampilan data sesudah input missing value\n",
        "df.show()"
      ],
      "metadata": {
        "colab": {
          "base_uri": "https://localhost:8080/"
        },
        "id": "ZygstcfXCp4N",
        "outputId": "41242251-9baf-4b48-a4d9-2270cd096fe5"
      },
      "execution_count": 148,
      "outputs": [
        {
          "output_type": "stream",
          "name": "stdout",
          "text": [
            "+--------+-----+\n",
            "|Embarked|count|\n",
            "+--------+-----+\n",
            "|       Q|   77|\n",
            "|    null|    2|\n",
            "|       C|  168|\n",
            "|       S|  644|\n",
            "+--------+-----+\n",
            "\n",
            "+--------+------+----+---+-----+-----+----+--------+\n",
            "|Survived|Pclass|Name|Sex|SibSp|Parch|Fare|Embarked|\n",
            "+--------+------+----+---+-----+-----+----+--------+\n",
            "|       0|     0|   0|  0|    0|    0|   0|       0|\n",
            "+--------+------+----+---+-----+-----+----+--------+\n",
            "\n",
            "+--------+------+--------------------+------+-----+-----+-------+--------+\n",
            "|Survived|Pclass|                Name|   Sex|SibSp|Parch|   Fare|Embarked|\n",
            "+--------+------+--------------------+------+-----+-----+-------+--------+\n",
            "|       0|     3|Braund, Mr. Owen ...|  male|    1|    0|   7.25|       S|\n",
            "|       1|     1|Cumings, Mrs. Joh...|female|    1|    0|71.2833|       C|\n",
            "|       1|     3|Heikkinen, Miss. ...|female|    0|    0|  7.925|       S|\n",
            "|       1|     1|Futrelle, Mrs. Ja...|female|    1|    0|   53.1|       S|\n",
            "|       0|     3|Allen, Mr. Willia...|  male|    0|    0|   8.05|       S|\n",
            "|       0|     3|    Moran, Mr. James|  male|    0|    0| 8.4583|       Q|\n",
            "|       0|     1|McCarthy, Mr. Tim...|  male|    0|    0|51.8625|       S|\n",
            "|       0|     3|Palsson, Master. ...|  male|    3|    1| 21.075|       S|\n",
            "|       1|     3|Johnson, Mrs. Osc...|female|    0|    2|11.1333|       S|\n",
            "|       1|     2|Nasser, Mrs. Nich...|female|    1|    0|30.0708|       C|\n",
            "|       1|     3|Sandstrom, Miss. ...|female|    1|    1|   16.7|       S|\n",
            "|       1|     1|Bonnell, Miss. El...|female|    0|    0|  26.55|       S|\n",
            "|       0|     3|Saundercock, Mr. ...|  male|    0|    0|   8.05|       S|\n",
            "|       0|     3|Andersson, Mr. An...|  male|    1|    5| 31.275|       S|\n",
            "|       0|     3|Vestrom, Miss. Hu...|female|    0|    0| 7.8542|       S|\n",
            "|       1|     2|Hewlett, Mrs. (Ma...|female|    0|    0|   16.0|       S|\n",
            "|       0|     3|Rice, Master. Eugene|  male|    4|    1| 29.125|       Q|\n",
            "|       1|     2|Williams, Mr. Cha...|  male|    0|    0|   13.0|       S|\n",
            "|       0|     3|Vander Planke, Mr...|female|    1|    0|   18.0|       S|\n",
            "|       1|     3|Masselmani, Mrs. ...|female|    0|    0|  7.225|       C|\n",
            "+--------+------+--------------------+------+-----+-----+-------+--------+\n",
            "only showing top 20 rows\n",
            "\n"
          ]
        }
      ]
    },
    {
      "cell_type": "code",
      "source": [
        "#cek tipe data kembali\n",
        "df.printSchema()"
      ],
      "metadata": {
        "colab": {
          "base_uri": "https://localhost:8080/"
        },
        "id": "hag_ncDiRcKA",
        "outputId": "f04f7864-569e-4366-e636-7b668f7822c4"
      },
      "execution_count": 149,
      "outputs": [
        {
          "output_type": "stream",
          "name": "stdout",
          "text": [
            "root\n",
            " |-- Survived: integer (nullable = true)\n",
            " |-- Pclass: integer (nullable = true)\n",
            " |-- Name: string (nullable = true)\n",
            " |-- Sex: string (nullable = true)\n",
            " |-- SibSp: integer (nullable = true)\n",
            " |-- Parch: integer (nullable = true)\n",
            " |-- Fare: double (nullable = true)\n",
            " |-- Embarked: string (nullable = false)\n",
            "\n"
          ]
        }
      ]
    },
    {
      "cell_type": "code",
      "source": [
        "# Melihat korelasi antar fitur menggunakan plot Heatmap\n",
        "data_corr = df.toPandas()\n",
        "plt.figure(figsize=(15,10))\n",
        "sns.heatmap(data_corr.corr(), annot=True)\n",
        "plt.show()"
      ],
      "metadata": {
        "colab": {
          "base_uri": "https://localhost:8080/",
          "height": 596
        },
        "id": "KJo6y8MeR96K",
        "outputId": "653504bf-ab2a-40e0-bad2-88c4aa6e80cf"
      },
      "execution_count": 150,
      "outputs": [
        {
          "output_type": "display_data",
          "data": {
            "text/plain": [
              "<Figure size 1080x720 with 2 Axes>"
            ],
            "image/png": "[encoded data removed]"
          },
          "metadata": {
            "needs_background": "light"
          }
        }
      ]
    },
    {
      "cell_type": "code",
      "source": [
        "sns.pairplot(df.toPandas())\n"
      ],
      "metadata": {
        "colab": {
          "base_uri": "https://localhost:8080/",
          "height": 921
        },
        "id": "wvjARuyuF2jU",
        "outputId": "c4b3d493-912c-47e9-f49e-305d290a8781"
      },
      "execution_count": 151,
      "outputs": [
        {
          "output_type": "execute_result",
          "data": {
            "text/plain": [
              "<seaborn.axisgrid.PairGrid at 0x7f6e55842390>"
            ]
          },
          "metadata": {},
          "execution_count": 151
        },
        {
          "output_type": "display_data",
          "data": {
            "text/plain": [
              "<Figure size 900x900 with 30 Axes>"
            ],
            "image/png": "[encoded data removed]"
          },
          "metadata": {
            "needs_background": "light"
          }
        }
      ]
    },
    {
      "cell_type": "markdown",
      "source": [
        "Buat fungsi untuk mengubah atribut kategorikal menjadi vektor biner dengan paling banyak satu nilai tunggal per baris yang menunjukkan indeks kategori input (menggunakan OneHotEncoder), kategori terakhir tidak disertakan secara default), tetapi pertama-tama konversikan data non-numerik ke data numerik (menggunakan StringIndexer):"
      ],
      "metadata": {
        "id": "QNr4D3XdRsp6"
      }
    },
    {
      "cell_type": "markdown",
      "source": [
        "Modelling"
      ],
      "metadata": {
        "id": "cgSHYJVaO3LA"
      }
    },
    {
      "cell_type": "code",
      "source": [
        "# Import library yang dibutuhkan\n",
        "from pyspark.ml.feature import VectorAssembler\n",
        "from pyspark.ml.classification import RandomForestClassifier"
      ],
      "metadata": {
        "id": "9xzHn4OcSuFq"
      },
      "execution_count": 152,
      "outputs": []
    },
    {
      "cell_type": "code",
      "source": [
        "numeric=['Pclass','Fare','SibSp','Parch']\n",
        "assembler=VectorAssembler(inputCols=numeric,outputCol=\"features\")\n",
        "df_stage = assembler.transform(df)\n",
        "df_stage = df_stage.select(['features', 'Survived'])\n",
        "df_stage.show()"
      ],
      "metadata": {
        "colab": {
          "base_uri": "https://localhost:8080/"
        },
        "id": "7LZodlu2UUyb",
        "outputId": "5e21f23b-e34a-43f9-cb82-0d3c4225b9e0"
      },
      "execution_count": 154,
      "outputs": [
        {
          "output_type": "stream",
          "name": "stdout",
          "text": [
            "+--------------------+--------+\n",
            "|            features|Survived|\n",
            "+--------------------+--------+\n",
            "|  [3.0,7.25,1.0,0.0]|       0|\n",
            "|[1.0,71.2833,1.0,...|       1|\n",
            "| [3.0,7.925,0.0,0.0]|       1|\n",
            "|  [1.0,53.1,1.0,0.0]|       1|\n",
            "|  [3.0,8.05,0.0,0.0]|       0|\n",
            "|[3.0,8.4583,0.0,0.0]|       0|\n",
            "|[1.0,51.8625,0.0,...|       0|\n",
            "|[3.0,21.075,3.0,1.0]|       0|\n",
            "|[3.0,11.1333,0.0,...|       1|\n",
            "|[2.0,30.0708,1.0,...|       1|\n",
            "|  [3.0,16.7,1.0,1.0]|       1|\n",
            "| [1.0,26.55,0.0,0.0]|       1|\n",
            "|  [3.0,8.05,0.0,0.0]|       0|\n",
            "|[3.0,31.275,1.0,5.0]|       0|\n",
            "|[3.0,7.8542,0.0,0.0]|       0|\n",
            "|  [2.0,16.0,0.0,0.0]|       1|\n",
            "|[3.0,29.125,4.0,1.0]|       0|\n",
            "|  [2.0,13.0,0.0,0.0]|       1|\n",
            "|  [3.0,18.0,1.0,0.0]|       0|\n",
            "| [3.0,7.225,0.0,0.0]|       1|\n",
            "+--------------------+--------+\n",
            "only showing top 20 rows\n",
            "\n"
          ]
        }
      ]
    },
    {
      "cell_type": "markdown",
      "source": [
        "Mari gabungkan daftar kolom yang kita minati ke dalam satu kolom vektor yang diberi nama 'fitur' dengan benar (menggunakan VectorAssembler):"
      ],
      "metadata": {
        "id": "cG7wmSKjTNOa"
      }
    },
    {
      "cell_type": "markdown",
      "source": [
        "Pembagian data"
      ],
      "metadata": {
        "id": "rn28cF4LTq_K"
      }
    },
    {
      "cell_type": "code",
      "source": [
        "from pandas.core.common import random_state\n",
        "train_data, test_data = df_stage.randomSplit([0.8,0.2],seed=42) "
      ],
      "metadata": {
        "id": "-f0ykR6lTsjQ"
      },
      "execution_count": 155,
      "outputs": []
    },
    {
      "cell_type": "markdown",
      "source": [
        "**Evaluasi dan Akurasi Model**"
      ],
      "metadata": {
        "id": "NDDhBh_nl6VT"
      }
    },
    {
      "cell_type": "code",
      "source": [
        "evaluator = BinaryClassificationEvaluator(labelCol='Survived')\n",
        "RandomForest = RandomForestClassifier(labelCol = 'Survived', predictionCol='prediction', seed=42)\n",
        "#train model\n",
        "rfmodel = RandomForest.fit(train_data)\n",
        "pred = rfmodel.transform(test_data)\n",
        "\n",
        "#AUC evaluate \n",
        "evaluator.evaluate(pred)\n",
        "print(\"Test Area Under ROC :\" ,evaluator.evaluate(pred))\n",
        "\n",
        "#Akurasi Model\n",
        "akurasi_model=rfmodel.summary\n",
        "print(\"Akurasi Model :\", akurasi_model.accuracy)"
      ],
      "metadata": {
        "colab": {
          "base_uri": "https://localhost:8080/"
        },
        "id": "lx6j42bvSZ4A",
        "outputId": "31f96ea1-8e56-40a8-bb0a-177a4b3b70dc"
      },
      "execution_count": 156,
      "outputs": [
        {
          "output_type": "stream",
          "name": "stdout",
          "text": [
            "Test Area Under ROC : 0.7362440191387559\n",
            "Akurasi Model : 0.739946380697051\n"
          ]
        }
      ]
    }
  ]
}